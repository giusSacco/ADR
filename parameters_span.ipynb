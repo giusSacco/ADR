{
 "cells": [
  {
   "attachments": {},
   "cell_type": "markdown",
   "metadata": {},
   "source": [
    "Daje! Vediamo inanzitutto che cambando seed non accada nulla!"
   ]
  },
  {
   "cell_type": "code",
   "execution_count": 27,
   "metadata": {},
   "outputs": [],
   "source": [
    "from ADR import ADR_params_dict\n",
    "ADR_params_dict['rand_seed'] = list(range(0,10))\n",
    "ADR_params_dict['Nt'] = 1000\n"
   ]
  },
  {
   "cell_type": "code",
   "execution_count": 28,
   "metadata": {},
   "outputs": [
    {
     "name": "stdout",
     "output_type": "stream",
     "text": [
      "alpha_0 = 0.15, d_alpha = 0.15, omega = 2pi/100alpha_0 = 0.15, d_alpha = 0.15, omega = 2pi/100alpha_0 = 0.15, d_alpha = 0.15, omega = 2pi/100alpha_0 = 0.15, d_alpha = 0.15, omega = 2pi/100alpha_0 = 0.15, d_alpha = 0.15, omega = 2pi/100\n",
      "\n",
      "alpha_0 = 0.15, d_alpha = 0.15, omega = 2pi/100alpha_0 = 0.15, d_alpha = 0.15, omega = 2pi/100\n",
      "\n",
      "\n",
      "alpha_0 = 0.15, d_alpha = 0.15, omega = 2pi/100\n",
      "\n",
      "\n"
     ]
    },
    {
     "name": "stderr",
     "output_type": "stream",
     "text": [
      " 96%|█████████▋| 9828/10200 [02:50<00:04, 84.92it/s]]\n",
      "100%|██████████| 10200/10200 [02:53<00:00, 58.62it/s]\n",
      " 98%|█████████▊| 10045/10200 [02:55<00:03, 46.86it/s]\n",
      " 99%|█████████▊| 10052/10200 [02:55<00:02, 51.12it/s]\n",
      " 99%|█████████▉| 10137/10200 [02:57<00:01, 54.49it/s]\n",
      "100%|██████████| 10200/10200 [02:57<00:00, 57.43it/s]\n",
      "100%|██████████| 10200/10200 [02:58<00:00, 57.11it/s]\n",
      "100%|██████████| 10200/10200 [02:59<00:00, 56.91it/s]\n"
     ]
    },
    {
     "name": "stdout",
     "output_type": "stream",
     "text": [
      "Time elapsed: 171.0s\n",
      "alpha_0 = 0.15, d_alpha = 0.15, omega = 2pi/100\n"
     ]
    },
    {
     "name": "stderr",
     "output_type": "stream",
     "text": [
      "  2%|▏         | 218/10200 [00:05<03:00, 55.20it/s]"
     ]
    },
    {
     "name": "stdout",
     "output_type": "stream",
     "text": [
      "Time elapsed: 175.9s\n",
      "alpha_0 = 0.15, d_alpha = 0.15, omega = 2pi/100\n"
     ]
    },
    {
     "name": "stderr",
     "output_type": "stream",
     "text": [
      "  2%|▏         | 240/10200 [00:05<02:40, 62.02it/s]"
     ]
    },
    {
     "name": "stdout",
     "output_type": "stream",
     "text": [
      "Time elapsed: 174.2s\n"
     ]
    },
    {
     "name": "stderr",
     "output_type": "stream",
     "text": [
      "  2%|▏         | 254/10200 [00:05<02:38, 62.88it/s]"
     ]
    },
    {
     "name": "stdout",
     "output_type": "stream",
     "text": [
      "Time elapsed: 176.0s\n"
     ]
    },
    {
     "name": "stderr",
     "output_type": "stream",
     "text": [
      "  4%|▍         | 454/10200 [00:07<01:43, 94.11it/s] "
     ]
    },
    {
     "name": "stdout",
     "output_type": "stream",
     "text": [
      "Time elapsed: 177.9s"
     ]
    },
    {
     "name": "stderr",
     "output_type": "stream",
     "text": [
      "  2%|▏         | 252/10200 [00:02<01:25, 116.78it/s]"
     ]
    },
    {
     "name": "stdout",
     "output_type": "stream",
     "text": [
      "\n"
     ]
    },
    {
     "name": "stderr",
     "output_type": "stream",
     "text": [
      "  5%|▌         | 513/10200 [00:08<01:23, 115.33it/s]"
     ]
    },
    {
     "name": "stdout",
     "output_type": "stream",
     "text": [
      "Time elapsed: 177.5s\n"
     ]
    },
    {
     "name": "stderr",
     "output_type": "stream",
     "text": [
      "  4%|▎         | 378/10200 [00:03<01:13, 133.82it/s]"
     ]
    },
    {
     "name": "stdout",
     "output_type": "stream",
     "text": [
      "Time elapsed: 178.8s\n"
     ]
    },
    {
     "name": "stderr",
     "output_type": "stream",
     "text": [
      "  6%|▌         | 568/10200 [00:04<01:05, 147.61it/s]"
     ]
    },
    {
     "name": "stdout",
     "output_type": "stream",
     "text": [
      "Time elapsed: 179.4s\n"
     ]
    },
    {
     "name": "stderr",
     "output_type": "stream",
     "text": [
      "100%|██████████| 10200/10200 [01:04<00:00, 158.21it/s]\n",
      "100%|██████████| 10200/10200 [01:00<00:00, 168.55it/s]\n"
     ]
    },
    {
     "name": "stdout",
     "output_type": "stream",
     "text": [
      "Time elapsed: 64.5s\n",
      "Time elapsed: 60.6s\n"
     ]
    }
   ],
   "source": [
    "from ADR_multiprocessing import ADR_parameter_span\n",
    "ADR_parameter_span(ADR_params_dict)"
   ]
  },
  {
   "cell_type": "code",
   "execution_count": 42,
   "metadata": {},
   "outputs": [],
   "source": [
    "import matplotlib.pyplot as plt\n",
    "from sqlite_handler import select_from_param, Connection\n"
   ]
  },
  {
   "cell_type": "code",
   "execution_count": 44,
   "metadata": {},
   "outputs": [],
   "source": [
    "# We get the data from the database from simulations with different seed with a loop\n",
    "N_t_stationary = []; c_avg = []\n",
    "for seed in range(20):\n",
    "    with Connection('./Simulations.db') as conn:\n",
    "        r =  select_from_param(conn, 'Nt', 10200, ['N_t_stationary','c_avg', 'Nt'])\n",
    "        N_t_stationary.append(r[0][0])\n",
    "        c_avg.append(r[0][1])"
   ]
  },
  {
   "cell_type": "code",
   "execution_count": 45,
   "metadata": {},
   "outputs": [
    {
     "data": {
      "text/plain": [
       "10200"
      ]
     },
     "execution_count": 45,
     "metadata": {},
     "output_type": "execute_result"
    }
   ],
   "source": [
    "r[0][2]"
   ]
  },
  {
   "cell_type": "code",
   "execution_count": 47,
   "metadata": {},
   "outputs": [
    {
     "data": {
      "image/png": "[encoded data removed]",
      "text/plain": [
       "<Figure size 640x480 with 1 Axes>"
      ]
     },
     "metadata": {},
     "output_type": "display_data"
    }
   ],
   "source": [
    "# plor c_avg vs time\n",
    "plt.close('all')\n",
    "for r_ in r:\n",
    "    c = r_[1]\n",
    "    plt.plot(c)"
   ]
  },
  {
   "cell_type": "code",
   "execution_count": 50,
   "metadata": {},
   "outputs": [
    {
     "name": "stdout",
     "output_type": "stream",
     "text": [
      "alpha_0 = 0.15, d_alpha = 0.15, omega = 2pi/100alpha_0 = 0.15, d_alpha = 0.15, omega = 2pi/100alpha_0 = 0.15, d_alpha = 0.15, omega = 2pi/100alpha_0 = 0.15, d_alpha = 0.15, omega = 2pi/100alpha_0 = 0.15, d_alpha = 0.15, omega = 2pi/100\n",
      "alpha_0 = 0.15, d_alpha = 0.15, omega = 2pi/100\n",
      "\n",
      "alpha_0 = 0.15, d_alpha = 0.15, omega = 2pi/100\n",
      "\n",
      "alpha_0 = 0.15, d_alpha = 0.15, omega = 2pi/100\n"
     ]
    },
    {
     "name": "stderr",
     "output_type": "stream",
     "text": [
      "  0%|          | 0/1200 [00:00<?, ?it/s]"
     ]
    },
    {
     "name": "stdout",
     "output_type": "stream",
     "text": [
      "\n"
     ]
    },
    {
     "name": "stderr",
     "output_type": "stream",
     "text": [
      "  0%|          | 0/1200 [00:00<?, ?it/s]"
     ]
    },
    {
     "name": "stdout",
     "output_type": "stream",
     "text": [
      "\n"
     ]
    },
    {
     "name": "stderr",
     "output_type": "stream",
     "text": [
      " 87%|████████▋ | 1044/1200 [00:22<00:03, 40.04it/s]\n",
      "100%|██████████| 1200/1200 [00:22<00:00, 53.03it/s]\n",
      "100%|██████████| 1200/1200 [00:23<00:00, 51.40it/s]\n",
      "100%|██████████| 1200/1200 [00:23<00:00, 51.15it/s]\n",
      "100%|██████████| 1200/1200 [00:23<00:00, 50.86it/s]\n",
      "100%|██████████| 1200/1200 [00:23<00:00, 50.86it/s]\n",
      "100%|██████████| 1200/1200 [00:25<00:00, 47.21it/s]\n",
      "100%|██████████| 1200/1200 [00:25<00:00, 46.87it/s]\n"
     ]
    },
    {
     "name": "stdout",
     "output_type": "stream",
     "text": [
      "Time elapsed: 23.6s\n",
      "alpha_0 = 0.15, d_alpha = 0.15, omega = 2pi/100\n"
     ]
    },
    {
     "name": "stderr",
     "output_type": "stream",
     "text": [
      "  2%|▏         | 26/1200 [00:00<00:20, 57.62it/s]"
     ]
    },
    {
     "name": "stdout",
     "output_type": "stream",
     "text": [
      "Time elapsed: 23.5s\n",
      "alpha_0 = 0.15, d_alpha = 0.15, omega = 2pi/100\n"
     ]
    },
    {
     "name": "stderr",
     "output_type": "stream",
     "text": [
      "  0%|          | 0/1200 [00:00<?, ?it/s]0.99it/s]"
     ]
    },
    {
     "name": "stdout",
     "output_type": "stream",
     "text": [
      "Time elapsed: 23.7s"
     ]
    },
    {
     "name": "stderr",
     "output_type": "stream",
     "text": [
      "  3%|▎         | 38/1200 [00:00<00:22, 51.71it/s]"
     ]
    },
    {
     "name": "stdout",
     "output_type": "stream",
     "text": [
      "\n"
     ]
    },
    {
     "name": "stderr",
     "output_type": "stream",
     "text": [
      "  1%|          | 8/1200 [00:00<00:15, 75.75it/s]"
     ]
    },
    {
     "name": "stdout",
     "output_type": "stream",
     "text": [
      "Time elapsed: 22.8s\n"
     ]
    },
    {
     "name": "stderr",
     "output_type": "stream",
     "text": [
      "  4%|▍         | 51/1200 [00:00<00:19, 58.33it/s]"
     ]
    },
    {
     "name": "stdout",
     "output_type": "stream",
     "text": [
      "Time elapsed: 22.5s\n"
     ]
    },
    {
     "name": "stderr",
     "output_type": "stream",
     "text": [
      " 13%|█▎        | 161/1200 [00:02<00:10, 99.77it/s] "
     ]
    },
    {
     "name": "stdout",
     "output_type": "stream",
     "text": [
      "Time elapsed: 23.8s\n"
     ]
    },
    {
     "name": "stderr",
     "output_type": "stream",
     "text": [
      " 20%|█▉        | 235/1200 [00:02<00:07, 129.31it/s]"
     ]
    },
    {
     "name": "stdout",
     "output_type": "stream",
     "text": [
      "Time elapsed: 25.5s\n"
     ]
    },
    {
     "name": "stderr",
     "output_type": "stream",
     "text": [
      " 24%|██▍       | 289/1200 [00:02<00:07, 129.37it/s]"
     ]
    },
    {
     "name": "stdout",
     "output_type": "stream",
     "text": [
      "Time elapsed: 25.8s\n"
     ]
    },
    {
     "name": "stderr",
     "output_type": "stream",
     "text": [
      "100%|██████████| 1200/1200 [00:08<00:00, 135.44it/s]\n",
      "100%|██████████| 1200/1200 [00:08<00:00, 142.38it/s]\n"
     ]
    },
    {
     "name": "stdout",
     "output_type": "stream",
     "text": [
      "Time elapsed: 8.9s\n",
      "Time elapsed: 8.5s\n"
     ]
    }
   ],
   "source": [
    "ADR_params_dict['a_chem_range'] = 0.001\n",
    "ADR_params_dict['a_chem_m'] = 1\n",
    "ADR_params_dict['Nt'] = 1000\n",
    "ADR_parameter_span(ADR_params_dict)"
   ]
  },
  {
   "cell_type": "code",
   "execution_count": 52,
   "metadata": {},
   "outputs": [
    {
     "data": {
      "image/png": "[encoded data removed]",
      "text/plain": [
       "<Figure size 640x480 with 1 Axes>"
      ]
     },
     "metadata": {},
     "output_type": "display_data"
    }
   ],
   "source": [
    "# We get the data from the database from simulations with different seed with a loop\n",
    "N_t_stationary = []; c_avg = []\n",
    "for seed in range(20):\n",
    "    with Connection('./Simulations.db') as conn:\n",
    "        r =  select_from_param(conn, 'a_chem_range', 0.001, ['N_t_stationary','c_avg', 'Nt'])\n",
    "        N_t_stationary.append(r[0][0])\n",
    "        c_avg.append(r[0][1])\n",
    "# plor c_avg vs time\n",
    "plt.close('all')\n",
    "for r_ in r:\n",
    "    c = r_[1]\n",
    "    plt.plot(c)"
   ]
  },
  {
   "attachments": {},
   "cell_type": "markdown",
   "metadata": {},
   "source": [
    "# Daje! Un sacco di seed"
   ]
  },
  {
   "cell_type": "code",
   "execution_count": 1,
   "metadata": {},
   "outputs": [],
   "source": [
    "import numpy as np"
   ]
  },
  {
   "cell_type": "code",
   "execution_count": 3,
   "metadata": {},
   "outputs": [],
   "source": [
    "import matplotlib\n",
    "\n",
    "%matplotlib widget\n",
    "\n",
    "from matplotlib import pyplot as plt"
   ]
  },
  {
   "cell_type": "code",
   "execution_count": 4,
   "metadata": {},
   "outputs": [],
   "source": [
    "def get_oscillation_amplitude(c):\n",
    "\n",
    "    _fft = np.fft.fft(c)\n",
    "\n",
    "    amplitude = np.max(_fft[1:])\n",
    "    mean = np.abs(_fft[0])\n",
    "    phase  = np.angle(_fft[np.argmax(np.abs(_fft[1:]))])\n",
    "\n",
    "    return mean, amplitude, phase"
   ]
  },
  {
   "cell_type": "code",
   "execution_count": 8,
   "metadata": {},
   "outputs": [],
   "source": [
    "from ADR import ADR_params_dict\n",
    "\n",
    "seeds = list(int(i) for i in np.random.randint(0,100000,100))\n",
    "ADR_params_dict['rand_seed'] = seeds\n",
    "ADR_params_dict['Nt'] = 10000"
   ]
  },
  {
   "cell_type": "code",
   "execution_count": 9,
   "metadata": {},
   "outputs": [
    {
     "name": "stdout",
     "output_type": "stream",
     "text": [
      "alpha_0 = 0.15, d_alpha = 0.15, omega = 2pi/100\n",
      "alpha_0 = 0.15, d_alpha = 0.15, omega = 2pi/100\n",
      "alpha_0 = 0.15, d_alpha = 0.15, omega = 2pi/100\n",
      "alpha_0 = 0.15, d_alpha = 0.15, omega = 2pi/100\n",
      "alpha_0 = 0.15, d_alpha = 0.15, omega = 2pi/100\n",
      "alpha_0 = 0.15, d_alpha = 0.15, omega = 2pi/100\n",
      "alpha_0 = 0.15, d_alpha = 0.15, omega = 2pi/100\n",
      "alpha_0 = 0.15, d_alpha = 0.15, omega = 2pi/100\n",
      "alpha_0 = 0.15, d_alpha = 0.15, omega = 2pi/100\n",
      "alpha_0 = 0.15, d_alpha = 0.15, omega = 2pi/100\n"
     ]
    },
    {
     "name": "stderr",
     "output_type": "stream",
     "text": [
      "100%|██████████| 11000/11000 [00:08<00:00, 1336.52it/s]\n",
      " 77%|███████▋  | 8434/11000 [00:08<00:02, 960.95it/s] "
     ]
    },
    {
     "name": "stdout",
     "output_type": "stream",
     "text": [
      "Time elapsed: 8.2s\n",
      "alpha_0 = 0.15, d_alpha = 0.15, omega = 2pi/100\n"
     ]
    },
    {
     "name": "stderr",
     "output_type": "stream",
     "text": [
      "100%|██████████| 11000/11000 [00:10<00:00, 1059.18it/s]\n",
      "100%|██████████| 11000/11000 [00:10<00:00, 1052.49it/s]\n",
      "  1%|          | 137/11000 [00:00<00:08, 1350.71it/s]]]"
     ]
    },
    {
     "name": "stdout",
     "output_type": "stream",
     "text": [
      "Time elapsed: 10.4s\n",
      "alpha_0 = 0.15, d_alpha = 0.15, omega = 2pi/100\n",
      "Time elapsed: 10.5s\n",
      "alpha_0 = 0.15, d_alpha = 0.15, omega = 2pi/100\n"
     ]
    },
    {
     "name": "stderr",
     "output_type": "stream",
     "text": [
      "100%|██████████| 11000/11000 [00:10<00:00, 1028.17it/s]\n",
      "100%|██████████| 11000/11000 [00:10<00:00, 1039.47it/s]\n",
      "100%|██████████| 11000/11000 [00:10<00:00, 1032.43it/s]\n",
      "100%|██████████| 11000/11000 [00:10<00:00, 1023.93it/s]\n",
      "  1%|          | 84/11000 [00:00<00:13, 824.07it/s]"
     ]
    },
    {
     "name": "stdout",
     "output_type": "stream",
     "text": [
      "Time elapsed: 10.7s\n",
      "alpha_0 = 0.15, d_alpha = 0.15, omega = 2pi/100\n",
      "Time elapsed: 10.6s\n",
      "alpha_0 = 0.15, d_alpha = 0.15, omega = 2pi/100\n",
      "Time elapsed: 10.7s\n",
      "alpha_0 = 0.15, d_alpha = 0.15, omega = 2pi/100\n",
      "Time elapsed: 10.7s\n",
      "alpha_0 = 0.15, d_alpha = 0.15, omega = 2pi/100\n",
      "Time elapsed: 10.8s\n",
      "alpha_0 = 0.15, d_alpha = 0.15, omega = 2pi/100\n",
      "Time elapsed: 10.8s\n",
      "alpha_0 = 0.15, d_alpha = 0.15, omega = 2pi/100\n"
     ]
    },
    {
     "name": "stderr",
     "output_type": "stream",
     "text": [
      "100%|██████████| 11000/11000 [00:10<00:00, 1020.73it/s]\n",
      "100%|██████████| 11000/11000 [00:10<00:00, 1015.92it/s]\n",
      "100%|██████████| 11000/11000 [00:11<00:00, 988.15it/s] \n",
      "  9%|▊         | 938/11000 [00:00<00:09, 1045.88it/s]]"
     ]
    },
    {
     "name": "stdout",
     "output_type": "stream",
     "text": [
      "Time elapsed: 11.1s\n",
      "alpha_0 = 0.15, d_alpha = 0.15, omega = 2pi/100\n"
     ]
    },
    {
     "name": "stderr",
     "output_type": "stream",
     "text": [
      "100%|██████████| 11000/11000 [00:07<00:00, 1555.41it/s]\n",
      "  0%|          | 0/11000 [00:00<?, ?it/s]"
     ]
    },
    {
     "name": "stdout",
     "output_type": "stream",
     "text": [
      "Time elapsed: 7.1s\n",
      "alpha_0 = 0.15, d_alpha = 0.15, omega = 2pi/100\n"
     ]
    },
    {
     "name": "stderr",
     "output_type": "stream",
     "text": [
      "100%|██████████| 11000/11000 [00:08<00:00, 1222.72it/s]\n",
      " 93%|█████████▎| 10204/11000 [00:08<00:00, 1181.25it/s]"
     ]
    },
    {
     "name": "stdout",
     "output_type": "stream",
     "text": [
      "Time elapsed: 9.0s\n",
      "alpha_0 = 0.15, d_alpha = 0.15, omega = 2pi/100\n",
      "Time elapsed: 9.2s\n",
      "alpha_0 = 0.15, d_alpha = 0.15, omega = 2pi/100\n"
     ]
    },
    {
     "name": "stderr",
     "output_type": "stream",
     "text": [
      "100%|██████████| 11000/11000 [00:09<00:00, 1189.56it/s]\n",
      "100%|██████████| 11000/11000 [00:09<00:00, 1220.47it/s]\n",
      "100%|██████████| 11000/11000 [00:09<00:00, 1193.99it/s]\n",
      " 95%|█████████▍| 10407/11000 [00:09<00:00, 1246.03it/s]"
     ]
    },
    {
     "name": "stdout",
     "output_type": "stream",
     "text": [
      "Time elapsed: 9.0s\n",
      "alpha_0 = 0.15, d_alpha = 0.15, omega = 2pi/100\n",
      "Time elapsed: 9.2s\n",
      "alpha_0 = 0.15, d_alpha = 0.15, omega = 2pi/100\n",
      "Time elapsed: 9.6s\n",
      "alpha_0 = 0.15, d_alpha = 0.15, omega = 2pi/100\n",
      "Time elapsed: 9.3s\n",
      "alpha_0 = 0.15, d_alpha = 0.15, omega = 2pi/100\n"
     ]
    },
    {
     "name": "stderr",
     "output_type": "stream",
     "text": [
      "100%|██████████| 11000/11000 [00:09<00:00, 1151.36it/s]\n",
      "100%|██████████| 11000/11000 [00:09<00:00, 1178.20it/s]\n",
      "100%|██████████| 11000/11000 [00:09<00:00, 1171.84it/s]\n",
      "100%|█████████▉| 10989/11000 [00:09<00:00, 1213.80it/s]"
     ]
    },
    {
     "name": "stdout",
     "output_type": "stream",
     "text": [
      "Time elapsed: 9.4s\n",
      "alpha_0 = 0.15, d_alpha = 0.15, omega = 2pi/100\n",
      "Time elapsed: 9.1s\n",
      "alpha_0 = 0.15, d_alpha = 0.15, omega = 2pi/100\n"
     ]
    },
    {
     "name": "stderr",
     "output_type": "stream",
     "text": [
      "100%|██████████| 11000/11000 [00:09<00:00, 1204.08it/s]\n",
      "100%|██████████| 11000/11000 [00:09<00:00, 1145.68it/s]\n",
      " 10%|▉         | 1061/11000 [00:00<00:07, 1244.44it/s]"
     ]
    },
    {
     "name": "stdout",
     "output_type": "stream",
     "text": [
      "Time elapsed: 9.6s\n",
      "alpha_0 = 0.15, d_alpha = 0.15, omega = 2pi/100\n"
     ]
    },
    {
     "name": "stderr",
     "output_type": "stream",
     "text": [
      "100%|██████████| 11000/11000 [00:07<00:00, 1522.88it/s]\n",
      " 28%|██▊       | 3121/11000 [00:02<00:08, 918.91it/s]]"
     ]
    },
    {
     "name": "stdout",
     "output_type": "stream",
     "text": [
      "Time elapsed: 7.2s\n",
      "alpha_0 = 0.15, d_alpha = 0.15, omega = 2pi/100\n"
     ]
    },
    {
     "name": "stderr",
     "output_type": "stream",
     "text": [
      "100%|██████████| 11000/11000 [00:07<00:00, 1502.34it/s]\n",
      " 95%|█████████▍| 10406/11000 [00:10<00:00, 1297.53it/s]"
     ]
    },
    {
     "name": "stdout",
     "output_type": "stream",
     "text": [
      "Time elapsed: 7.3s\n",
      "alpha_0 = 0.15, d_alpha = 0.15, omega = 2pi/100\n",
      "Time elapsed: 10.3s\n",
      "alpha_0 = 0.15, d_alpha = 0.15, omega = 2pi/100\n"
     ]
    },
    {
     "name": "stderr",
     "output_type": "stream",
     "text": [
      "100%|██████████| 11000/11000 [00:10<00:00, 1068.02it/s]\n",
      "100%|██████████| 11000/11000 [00:10<00:00, 1079.47it/s]\n",
      "  0%|          | 0/11000 [00:00<?, ?it/s]"
     ]
    },
    {
     "name": "stdout",
     "output_type": "stream",
     "text": [
      "Time elapsed: 10.2s\n",
      "alpha_0 = 0.15, d_alpha = 0.15, omega = 2pi/100\n"
     ]
    },
    {
     "name": "stderr",
     "output_type": "stream",
     "text": [
      "100%|██████████| 11000/11000 [00:10<00:00, 1055.35it/s]\n",
      "  1%|▏         | 164/11000 [00:00<00:12, 841.03it/s]"
     ]
    },
    {
     "name": "stdout",
     "output_type": "stream",
     "text": [
      "Time elapsed: 10.4s\n",
      "alpha_0 = 0.15, d_alpha = 0.15, omega = 2pi/100\n",
      "Time elapsed: 10.7s\n",
      "alpha_0 = 0.15, d_alpha = 0.15, omega = 2pi/100\n"
     ]
    },
    {
     "name": "stderr",
     "output_type": "stream",
     "text": [
      "100%|██████████| 11000/11000 [00:10<00:00, 1032.21it/s]\n",
      "100%|██████████| 11000/11000 [00:10<00:00, 1030.95it/s]\n",
      "  0%|          | 0/11000 [00:00<?, ?it/s]"
     ]
    },
    {
     "name": "stdout",
     "output_type": "stream",
     "text": [
      "Time elapsed: 10.7s\n",
      "alpha_0 = 0.15, d_alpha = 0.15, omega = 2pi/100\n",
      "Time elapsed: 10.7s\n",
      "alpha_0 = 0.15, d_alpha = 0.15, omega = 2pi/100\n",
      "Time elapsed: 10.7s\n",
      "alpha_0 = 0.15, d_alpha = 0.15, omega = 2pi/100\n",
      "Time elapsed: 10.6s\n",
      "alpha_0 = 0.15, d_alpha = 0.15, omega = 2pi/100\n"
     ]
    },
    {
     "name": "stderr",
     "output_type": "stream",
     "text": [
      "100%|██████████| 11000/11000 [00:10<00:00, 1025.94it/s]\n",
      "100%|██████████| 11000/11000 [00:10<00:00, 1027.36it/s]\n",
      "100%|██████████| 11000/11000 [00:10<00:00, 1039.08it/s]\n",
      "100%|██████████| 11000/11000 [00:10<00:00, 1044.54it/s]\n",
      "  6%|▌         | 674/11000 [00:00<00:06, 1481.97it/s]]"
     ]
    },
    {
     "name": "stdout",
     "output_type": "stream",
     "text": [
      "Time elapsed: 10.5s\n",
      "alpha_0 = 0.15, d_alpha = 0.15, omega = 2pi/100\n"
     ]
    },
    {
     "name": "stderr",
     "output_type": "stream",
     "text": [
      "100%|██████████| 11000/11000 [00:06<00:00, 1637.05it/s]\n",
      " 64%|██████▍   | 7040/11000 [00:05<00:03, 1146.13it/s]"
     ]
    },
    {
     "name": "stdout",
     "output_type": "stream",
     "text": [
      "Time elapsed: 6.7s\n",
      "alpha_0 = 0.15, d_alpha = 0.15, omega = 2pi/100\n"
     ]
    },
    {
     "name": "stderr",
     "output_type": "stream",
     "text": [
      "100%|██████████| 11000/11000 [00:08<00:00, 1224.62it/s]\n"
     ]
    },
    {
     "name": "stdout",
     "output_type": "stream",
     "text": [
      "Time elapsed: 9.0s\n",
      "alpha_0 = 0.15, d_alpha = 0.15, omega = 2pi/100\n",
      "Time elapsed: 8.9s\n",
      "alpha_0 = 0.15, d_alpha = 0.15, omega = 2pi/100\n"
     ]
    },
    {
     "name": "stderr",
     "output_type": "stream",
     "text": [
      "100%|██████████| 11000/11000 [00:08<00:00, 1236.06it/s]\n",
      "100%|██████████| 11000/11000 [00:09<00:00, 1176.59it/s]\n",
      "  0%|          | 0/11000 [00:00<?, ?it/s], 1122.97it/s]"
     ]
    },
    {
     "name": "stdout",
     "output_type": "stream",
     "text": [
      "Time elapsed: 9.4s\n",
      "alpha_0 = 0.15, d_alpha = 0.15, omega = 2pi/100\n"
     ]
    },
    {
     "name": "stderr",
     "output_type": "stream",
     "text": [
      "100%|██████████| 11000/11000 [00:08<00:00, 1227.34it/s]\n",
      "100%|██████████| 11000/11000 [00:09<00:00, 1149.37it/s]\n",
      "  6%|▌         | 654/11000 [00:00<00:09, 1105.33it/s]s]"
     ]
    },
    {
     "name": "stdout",
     "output_type": "stream",
     "text": [
      "Time elapsed: 9.0s\n",
      "alpha_0 = 0.15, d_alpha = 0.15, omega = 2pi/100\n",
      "Time elapsed: 9.6s\n",
      "alpha_0 = 0.15, d_alpha = 0.15, omega = 2pi/100\n",
      "Time elapsed: 9.2s\n",
      "alpha_0 = 0.15, d_alpha = 0.15, omega = 2pi/100\n",
      "Time elapsed: 9.0s\n",
      "alpha_0 = 0.15, d_alpha = 0.15, omega = 2pi/100\n"
     ]
    },
    {
     "name": "stderr",
     "output_type": "stream",
     "text": [
      "100%|██████████| 11000/11000 [00:09<00:00, 1191.88it/s]\n",
      "100%|██████████| 11000/11000 [00:09<00:00, 1217.52it/s]\n",
      "100%|██████████| 11000/11000 [00:09<00:00, 1181.79it/s]\n",
      " 11%|█         | 1160/11000 [00:01<00:07, 1233.86it/s]]"
     ]
    },
    {
     "name": "stdout",
     "output_type": "stream",
     "text": [
      "Time elapsed: 9.3s\n",
      "alpha_0 = 0.15, d_alpha = 0.15, omega = 2pi/100\n"
     ]
    },
    {
     "name": "stderr",
     "output_type": "stream",
     "text": [
      "100%|██████████| 11000/11000 [00:09<00:00, 1119.63it/s]\n",
      " 59%|█████▊    | 6448/11000 [00:04<00:02, 1676.88it/s]"
     ]
    },
    {
     "name": "stdout",
     "output_type": "stream",
     "text": [
      "Time elapsed: 9.8s\n",
      "alpha_0 = 0.15, d_alpha = 0.15, omega = 2pi/100\n"
     ]
    },
    {
     "name": "stderr",
     "output_type": "stream",
     "text": [
      "100%|██████████| 11000/11000 [00:06<00:00, 1624.90it/s]\n",
      " 29%|██▉       | 3186/11000 [00:02<00:08, 967.73it/s] "
     ]
    },
    {
     "name": "stdout",
     "output_type": "stream",
     "text": [
      "Time elapsed: 6.8s\n",
      "alpha_0 = 0.15, d_alpha = 0.15, omega = 2pi/100\n"
     ]
    },
    {
     "name": "stderr",
     "output_type": "stream",
     "text": [
      "100%|██████████| 11000/11000 [00:10<00:00, 1028.45it/s]\n",
      "  1%|          | 89/11000 [00:00<00:12, 887.23it/s]/s]]"
     ]
    },
    {
     "name": "stdout",
     "output_type": "stream",
     "text": [
      "Time elapsed: 10.7s\n",
      "alpha_0 = 0.15, d_alpha = 0.15, omega = 2pi/100\n",
      "Time elapsed: 6.6s\n",
      "alpha_0 = 0.15, d_alpha = 0.15, omega = 2pi/100\n"
     ]
    },
    {
     "name": "stderr",
     "output_type": "stream",
     "text": [
      "100%|██████████| 11000/11000 [00:06<00:00, 1672.43it/s]\n",
      "100%|██████████| 11000/11000 [00:10<00:00, 1028.22it/s]\n",
      " 80%|███████▉  | 8795/11000 [00:09<00:02, 1061.53it/s]]"
     ]
    },
    {
     "name": "stdout",
     "output_type": "stream",
     "text": [
      "Time elapsed: 10.7s\n",
      "alpha_0 = 0.15, d_alpha = 0.15, omega = 2pi/100\n"
     ]
    },
    {
     "name": "stderr",
     "output_type": "stream",
     "text": [
      "100%|██████████| 11000/11000 [00:11<00:00, 988.28it/s] \n",
      "100%|██████████| 11000/11000 [00:10<00:00, 1031.02it/s]\n",
      "  0%|          | 0/11000 [00:00<?, ?it/s]"
     ]
    },
    {
     "name": "stdout",
     "output_type": "stream",
     "text": [
      "Time elapsed: 11.1s\n",
      "alpha_0 = 0.15, d_alpha = 0.15, omega = 2pi/100\n",
      "Time elapsed: 10.7s\n",
      "alpha_0 = 0.15, d_alpha = 0.15, omega = 2pi/100\n"
     ]
    },
    {
     "name": "stderr",
     "output_type": "stream",
     "text": [
      "100%|██████████| 11000/11000 [00:11<00:00, 998.53it/s] \n",
      " 98%|█████████▊| 10734/11000 [00:10<00:00, 1058.68it/s]"
     ]
    },
    {
     "name": "stdout",
     "output_type": "stream",
     "text": [
      "Time elapsed: 11.0s\n",
      "alpha_0 = 0.15, d_alpha = 0.15, omega = 2pi/100\n"
     ]
    },
    {
     "name": "stderr",
     "output_type": "stream",
     "text": [
      "100%|██████████| 11000/11000 [00:11<00:00, 979.56it/s] \n",
      "100%|██████████| 11000/11000 [00:11<00:00, 971.73it/s]]\n",
      "  1%|          | 93/11000 [00:00<00:11, 929.86it/s]]s]]"
     ]
    },
    {
     "name": "stdout",
     "output_type": "stream",
     "text": [
      "Time elapsed: 11.2s\n",
      "alpha_0 = 0.15, d_alpha = 0.15, omega = 2pi/100\n",
      "Time elapsed: 11.3s\n",
      "alpha_0 = 0.15, d_alpha = 0.15, omega = 2pi/100\n"
     ]
    },
    {
     "name": "stderr",
     "output_type": "stream",
     "text": [
      "100%|██████████| 11000/11000 [00:11<00:00, 984.38it/s]\n",
      " 10%|▉         | 1063/11000 [00:01<00:09, 997.67it/s]]]"
     ]
    },
    {
     "name": "stdout",
     "output_type": "stream",
     "text": [
      "Time elapsed: 11.2s\n",
      "alpha_0 = 0.15, d_alpha = 0.15, omega = 2pi/100\n"
     ]
    },
    {
     "name": "stderr",
     "output_type": "stream",
     "text": [
      "100%|██████████| 11000/11000 [00:11<00:00, 971.04it/s] \n",
      " 32%|███▏      | 3526/11000 [00:02<00:04, 1640.66it/s]"
     ]
    },
    {
     "name": "stdout",
     "output_type": "stream",
     "text": [
      "Time elapsed: 11.3s\n",
      "alpha_0 = 0.15, d_alpha = 0.15, omega = 2pi/100\n"
     ]
    },
    {
     "name": "stderr",
     "output_type": "stream",
     "text": [
      "100%|██████████| 11000/11000 [00:06<00:00, 1646.48it/s]\n",
      " 71%|███████▏  | 7844/11000 [00:07<00:02, 1185.48it/s]"
     ]
    },
    {
     "name": "stdout",
     "output_type": "stream",
     "text": [
      "Time elapsed: 6.7s\n",
      "alpha_0 = 0.15, d_alpha = 0.15, omega = 2pi/100\n"
     ]
    },
    {
     "name": "stderr",
     "output_type": "stream",
     "text": [
      "100%|██████████| 11000/11000 [00:09<00:00, 1143.69it/s]\n",
      " 84%|████████▍ | 9247/11000 [00:08<00:01, 1190.79it/s]]"
     ]
    },
    {
     "name": "stdout",
     "output_type": "stream",
     "text": [
      "Time elapsed: 9.6s\n",
      "alpha_0 = 0.15, d_alpha = 0.15, omega = 2pi/100\n",
      "Time elapsed: 9.6s\n",
      "alpha_0 = 0.15, d_alpha = 0.15, omega = 2pi/100\n"
     ]
    },
    {
     "name": "stderr",
     "output_type": "stream",
     "text": [
      "100%|██████████| 11000/11000 [00:09<00:00, 1149.48it/s]\n",
      "100%|██████████| 11000/11000 [00:09<00:00, 1112.81it/s]\n",
      " 99%|█████████▉| 10932/11000 [00:09<00:00, 1135.07it/s]"
     ]
    },
    {
     "name": "stdout",
     "output_type": "stream",
     "text": [
      "Time elapsed: 9.9s\n",
      "alpha_0 = 0.15, d_alpha = 0.15, omega = 2pi/100\n",
      "Time elapsed: 9.9s\n",
      "alpha_0 = 0.15, d_alpha = 0.15, omega = 2pi/100\n"
     ]
    },
    {
     "name": "stderr",
     "output_type": "stream",
     "text": [
      "100%|██████████| 11000/11000 [00:09<00:00, 1109.46it/s]\n",
      "100%|██████████| 11000/11000 [00:09<00:00, 1182.06it/s]\n",
      "100%|██████████| 11000/11000 [00:09<00:00, 1141.67it/s]\n",
      "  4%|▎         | 412/11000 [00:00<00:09, 1089.98it/s]"
     ]
    },
    {
     "name": "stdout",
     "output_type": "stream",
     "text": [
      "Time elapsed: 9.3s\n",
      "alpha_0 = 0.15, d_alpha = 0.15, omega = 2pi/100\n",
      "Time elapsed: 9.6s\n",
      "alpha_0 = 0.15, d_alpha = 0.15, omega = 2pi/100\n",
      "Time elapsed: 10.1s\n",
      "alpha_0 = 0.15, d_alpha = 0.15, omega = 2pi/100\n"
     ]
    },
    {
     "name": "stderr",
     "output_type": "stream",
     "text": [
      "100%|██████████| 11000/11000 [00:10<00:00, 1091.17it/s]\n",
      "100%|██████████| 11000/11000 [00:10<00:00, 1074.91it/s]\n",
      " 72%|███████▏  | 7955/11000 [00:05<00:01, 1584.13it/s] "
     ]
    },
    {
     "name": "stdout",
     "output_type": "stream",
     "text": [
      "Time elapsed: 10.2s\n",
      "alpha_0 = 0.15, d_alpha = 0.15, omega = 2pi/100\n"
     ]
    },
    {
     "name": "stderr",
     "output_type": "stream",
     "text": [
      "100%|██████████| 11000/11000 [00:10<00:00, 1078.84it/s]\n",
      "  9%|▉         | 1017/11000 [00:01<00:10, 989.99it/s]"
     ]
    },
    {
     "name": "stdout",
     "output_type": "stream",
     "text": [
      "Time elapsed: 10.2s\n",
      "alpha_0 = 0.15, d_alpha = 0.15, omega = 2pi/100\n"
     ]
    },
    {
     "name": "stderr",
     "output_type": "stream",
     "text": [
      "100%|██████████| 11000/11000 [00:06<00:00, 1573.47it/s]\n",
      " 14%|█▍        | 1564/11000 [00:01<00:09, 1033.38it/s]"
     ]
    },
    {
     "name": "stdout",
     "output_type": "stream",
     "text": [
      "Time elapsed: 7.0s\n",
      "alpha_0 = 0.15, d_alpha = 0.15, omega = 2pi/100\n"
     ]
    },
    {
     "name": "stderr",
     "output_type": "stream",
     "text": [
      "100%|██████████| 11000/11000 [00:09<00:00, 1121.52it/s]\n",
      " 89%|████████▊ | 9752/11000 [00:08<00:00, 1258.74it/s]]"
     ]
    },
    {
     "name": "stdout",
     "output_type": "stream",
     "text": [
      "Time elapsed: 9.8s\n",
      "alpha_0 = 0.15, d_alpha = 0.15, omega = 2pi/100\n"
     ]
    },
    {
     "name": "stderr",
     "output_type": "stream",
     "text": [
      "100%|██████████| 11000/11000 [00:09<00:00, 1110.32it/s]\n",
      " 85%|████████▌ | 9399/11000 [00:08<00:01, 1041.87it/s]"
     ]
    },
    {
     "name": "stdout",
     "output_type": "stream",
     "text": [
      "Time elapsed: 9.9s\n",
      "alpha_0 = 0.15, d_alpha = 0.15, omega = 2pi/100\n"
     ]
    },
    {
     "name": "stderr",
     "output_type": "stream",
     "text": [
      "100%|██████████| 11000/11000 [00:09<00:00, 1139.37it/s]\n",
      " 85%|████████▌ | 9377/11000 [00:08<00:01, 1177.48it/s]"
     ]
    },
    {
     "name": "stdout",
     "output_type": "stream",
     "text": [
      "Time elapsed: 9.7s\n",
      "alpha_0 = 0.15, d_alpha = 0.15, omega = 2pi/100\n"
     ]
    },
    {
     "name": "stderr",
     "output_type": "stream",
     "text": [
      "100%|██████████| 11000/11000 [00:06<00:00, 1631.04it/s]\n",
      " 99%|█████████▉| 10879/11000 [00:09<00:00, 1008.24it/s]"
     ]
    },
    {
     "name": "stdout",
     "output_type": "stream",
     "text": [
      "Time elapsed: 6.7s\n",
      "alpha_0 = 0.15, d_alpha = 0.15, omega = 2pi/100\n",
      "Time elapsed: 9.6s\n",
      "alpha_0 = 0.15, d_alpha = 0.15, omega = 2pi/100\n",
      "Time elapsed: 10.1s\n",
      "alpha_0 = 0.15, d_alpha = 0.15, omega = 2pi/100\n"
     ]
    },
    {
     "name": "stderr",
     "output_type": "stream",
     "text": [
      "100%|██████████| 11000/11000 [00:09<00:00, 1140.22it/s]\n",
      "100%|██████████| 11000/11000 [00:10<00:00, 1091.95it/s]\n",
      "100%|██████████| 11000/11000 [00:10<00:00, 1095.10it/s]\n",
      "  8%|▊         | 866/11000 [00:00<00:10, 1004.02it/s]"
     ]
    },
    {
     "name": "stdout",
     "output_type": "stream",
     "text": [
      "Time elapsed: 10.0s\n",
      "alpha_0 = 0.15, d_alpha = 0.15, omega = 2pi/100\n",
      "Time elapsed: 9.9s\n",
      "alpha_0 = 0.15, d_alpha = 0.15, omega = 2pi/100\n"
     ]
    },
    {
     "name": "stderr",
     "output_type": "stream",
     "text": [
      "100%|██████████| 11000/11000 [00:09<00:00, 1113.74it/s]\n",
      "100%|██████████| 11000/11000 [00:10<00:00, 1096.55it/s]\n",
      " 97%|█████████▋| 10678/11000 [00:09<00:00, 992.89it/s]"
     ]
    },
    {
     "name": "stdout",
     "output_type": "stream",
     "text": [
      "Time elapsed: 10.0s\n",
      "alpha_0 = 0.15, d_alpha = 0.15, omega = 2pi/100\n"
     ]
    },
    {
     "name": "stderr",
     "output_type": "stream",
     "text": [
      "100%|██████████| 11000/11000 [00:09<00:00, 1112.78it/s]\n",
      " 27%|██▋       | 3024/11000 [00:02<00:06, 1224.01it/s]"
     ]
    },
    {
     "name": "stdout",
     "output_type": "stream",
     "text": [
      "Time elapsed: 9.9s\n",
      "alpha_0 = 0.15, d_alpha = 0.15, omega = 2pi/100\n"
     ]
    },
    {
     "name": "stderr",
     "output_type": "stream",
     "text": [
      "100%|██████████| 11000/11000 [00:06<00:00, 1645.77it/s]\n",
      " 69%|██████▉   | 7626/11000 [00:06<00:03, 992.24it/s]]"
     ]
    },
    {
     "name": "stdout",
     "output_type": "stream",
     "text": [
      "Time elapsed: 6.7s\n",
      "alpha_0 = 0.15, d_alpha = 0.15, omega = 2pi/100\n"
     ]
    },
    {
     "name": "stderr",
     "output_type": "stream",
     "text": [
      "100%|██████████| 11000/11000 [00:09<00:00, 1117.47it/s]\n",
      " 87%|████████▋ | 9594/11000 [00:08<00:01, 1397.71it/s]]"
     ]
    },
    {
     "name": "stdout",
     "output_type": "stream",
     "text": [
      "Time elapsed: 9.8s\n",
      "alpha_0 = 0.15, d_alpha = 0.15, omega = 2pi/100\n",
      "Time elapsed: 9.7s\n",
      "alpha_0 = 0.15, d_alpha = 0.15, omega = 2pi/100\n"
     ]
    },
    {
     "name": "stderr",
     "output_type": "stream",
     "text": [
      "100%|██████████| 11000/11000 [00:09<00:00, 1134.03it/s]\n",
      "100%|██████████| 11000/11000 [00:09<00:00, 1128.24it/s]\n",
      " 93%|█████████▎| 10280/11000 [00:09<00:00, 1240.50it/s]"
     ]
    },
    {
     "name": "stdout",
     "output_type": "stream",
     "text": [
      "Time elapsed: 9.8s\n",
      "alpha_0 = 0.15, d_alpha = 0.15, omega = 2pi/100\n"
     ]
    },
    {
     "name": "stderr",
     "output_type": "stream",
     "text": [
      "100%|██████████| 11000/11000 [00:09<00:00, 1142.93it/s]\n",
      " 82%|████████▏ | 8985/11000 [00:08<00:02, 979.18it/s]]]"
     ]
    },
    {
     "name": "stdout",
     "output_type": "stream",
     "text": [
      "Time elapsed: 9.6s\n",
      "alpha_0 = 0.15, d_alpha = 0.15, omega = 2pi/100\n"
     ]
    },
    {
     "name": "stderr",
     "output_type": "stream",
     "text": [
      "100%|██████████| 11000/11000 [00:09<00:00, 1151.79it/s]\n",
      " 99%|█████████▉| 10881/11000 [00:09<00:00, 1010.35it/s]"
     ]
    },
    {
     "name": "stdout",
     "output_type": "stream",
     "text": [
      "Time elapsed: 9.6s\n",
      "alpha_0 = 0.15, d_alpha = 0.15, omega = 2pi/100\n",
      "Time elapsed: 10.0s\n",
      "alpha_0 = 0.15, d_alpha = 0.15, omega = 2pi/100\n",
      "Time elapsed: 9.6s\n",
      "alpha_0 = 0.15, d_alpha = 0.15, omega = 2pi/100\n"
     ]
    },
    {
     "name": "stderr",
     "output_type": "stream",
     "text": [
      "100%|██████████| 11000/11000 [00:09<00:00, 1100.54it/s]\n",
      "100%|██████████| 11000/11000 [00:09<00:00, 1140.47it/s]\n",
      "100%|██████████| 11000/11000 [00:10<00:00, 1096.78it/s]\n",
      " 13%|█▎        | 1463/11000 [00:01<00:06, 1393.15it/s]]"
     ]
    },
    {
     "name": "stdout",
     "output_type": "stream",
     "text": [
      "Time elapsed: 10.0s\n",
      "alpha_0 = 0.15, d_alpha = 0.15, omega = 2pi/100\n"
     ]
    },
    {
     "name": "stderr",
     "output_type": "stream",
     "text": [
      "100%|██████████| 11000/11000 [00:09<00:00, 1114.70it/s]\n",
      " 16%|█▌        | 1764/11000 [00:01<00:07, 1178.50it/s]"
     ]
    },
    {
     "name": "stdout",
     "output_type": "stream",
     "text": [
      "Time elapsed: 9.9s\n",
      "alpha_0 = 0.15, d_alpha = 0.15, omega = 2pi/100\n"
     ]
    },
    {
     "name": "stderr",
     "output_type": "stream",
     "text": [
      "100%|██████████| 11000/11000 [00:06<00:00, 1684.13it/s]\n",
      " 47%|████▋     | 5137/11000 [00:04<00:04, 1215.95it/s]"
     ]
    },
    {
     "name": "stdout",
     "output_type": "stream",
     "text": [
      "Time elapsed: 6.5s\n",
      "alpha_0 = 0.15, d_alpha = 0.15, omega = 2pi/100\n"
     ]
    },
    {
     "name": "stderr",
     "output_type": "stream",
     "text": [
      "100%|██████████| 11000/11000 [00:09<00:00, 1127.51it/s]\n",
      "100%|██████████| 11000/11000 [00:09<00:00, 1111.38it/s]\n",
      " 75%|███████▌  | 8257/11000 [00:07<00:02, 1081.86it/s]]"
     ]
    },
    {
     "name": "stdout",
     "output_type": "stream",
     "text": [
      "Time elapsed: 9.9s\n",
      "alpha_0 = 0.15, d_alpha = 0.15, omega = 2pi/100\n",
      "Time elapsed: 9.8s\n",
      "alpha_0 = 0.15, d_alpha = 0.15, omega = 2pi/100\n"
     ]
    },
    {
     "name": "stderr",
     "output_type": "stream",
     "text": [
      "100%|██████████| 11000/11000 [00:09<00:00, 1119.40it/s]\n",
      "  1%|          | 98/11000 [00:00<00:11, 975.53it/s]/s]]"
     ]
    },
    {
     "name": "stdout",
     "output_type": "stream",
     "text": [
      "Time elapsed: 9.8s\n",
      "alpha_0 = 0.15, d_alpha = 0.15, omega = 2pi/100\n"
     ]
    },
    {
     "name": "stderr",
     "output_type": "stream",
     "text": [
      "100%|██████████| 11000/11000 [00:09<00:00, 1107.60it/s]\n",
      " 10%|█         | 1131/11000 [00:01<00:10, 900.31it/s]s]"
     ]
    },
    {
     "name": "stdout",
     "output_type": "stream",
     "text": [
      "Time elapsed: 9.9s\n",
      "alpha_0 = 0.15, d_alpha = 0.15, omega = 2pi/100\n"
     ]
    },
    {
     "name": "stderr",
     "output_type": "stream",
     "text": [
      "100%|██████████| 11000/11000 [00:10<00:00, 1099.60it/s]\n",
      "100%|██████████| 11000/11000 [00:10<00:00, 1070.34it/s]\n",
      " 14%|█▍        | 1587/11000 [00:01<00:09, 1031.95it/s]]"
     ]
    },
    {
     "name": "stdout",
     "output_type": "stream",
     "text": [
      "Time elapsed: 10.0s\n",
      "alpha_0 = 0.15, d_alpha = 0.15, omega = 2pi/100\n",
      "Time elapsed: 10.3s\n",
      "alpha_0 = 0.15, d_alpha = 0.15, omega = 2pi/100\n"
     ]
    },
    {
     "name": "stderr",
     "output_type": "stream",
     "text": [
      "100%|██████████| 11000/11000 [00:07<00:00, 1506.99it/s]\n",
      " 99%|█████████▉| 10921/11000 [00:10<00:00, 1053.86it/s]"
     ]
    },
    {
     "name": "stdout",
     "output_type": "stream",
     "text": [
      "Time elapsed: 7.3s\n",
      "Time elapsed: 10.5s\n"
     ]
    },
    {
     "name": "stderr",
     "output_type": "stream",
     "text": [
      "100%|██████████| 11000/11000 [00:10<00:00, 1048.09it/s]\n",
      "100%|██████████| 11000/11000 [00:10<00:00, 1084.83it/s]\n",
      " 17%|█▋        | 1842/11000 [00:01<00:08, 1104.80it/s]"
     ]
    },
    {
     "name": "stdout",
     "output_type": "stream",
     "text": [
      "Time elapsed: 10.1s\n"
     ]
    },
    {
     "name": "stderr",
     "output_type": "stream",
     "text": [
      "100%|██████████| 11000/11000 [00:10<00:00, 1089.44it/s]\n"
     ]
    },
    {
     "name": "stdout",
     "output_type": "stream",
     "text": [
      "Time elapsed: 10.1s\n"
     ]
    },
    {
     "name": "stderr",
     "output_type": "stream",
     "text": [
      "100%|██████████| 11000/11000 [00:07<00:00, 1471.37it/s]\n",
      "100%|██████████| 11000/11000 [00:07<00:00, 1451.13it/s]\n"
     ]
    },
    {
     "name": "stdout",
     "output_type": "stream",
     "text": [
      "Time elapsed: 7.5s\n",
      "Time elapsed: 7.6s\n"
     ]
    },
    {
     "name": "stderr",
     "output_type": "stream",
     "text": [
      "100%|██████████| 11000/11000 [00:07<00:00, 1504.27it/s]\n",
      " 93%|█████████▎| 10266/11000 [00:06<00:00, 1655.25it/s]"
     ]
    },
    {
     "name": "stdout",
     "output_type": "stream",
     "text": [
      "Time elapsed: 7.3s\n"
     ]
    },
    {
     "name": "stderr",
     "output_type": "stream",
     "text": [
      "100%|██████████| 11000/11000 [00:07<00:00, 1553.03it/s]\n",
      " 98%|█████████▊| 10807/11000 [00:06<00:00, 1745.95it/s]"
     ]
    },
    {
     "name": "stdout",
     "output_type": "stream",
     "text": [
      "Time elapsed: 7.1s\n",
      "Time elapsed: 6.8s\n"
     ]
    },
    {
     "name": "stderr",
     "output_type": "stream",
     "text": [
      "100%|██████████| 11000/11000 [00:06<00:00, 1616.35it/s]\n",
      "100%|██████████| 11000/11000 [00:06<00:00, 1637.28it/s]\n"
     ]
    },
    {
     "name": "stdout",
     "output_type": "stream",
     "text": [
      "Time elapsed: 6.7s\n"
     ]
    }
   ],
   "source": [
    "from ADR_multiprocessing import ADR_parameter_span\n",
    "ADR_parameter_span(ADR_params_dict)"
   ]
  },
  {
   "cell_type": "code",
   "execution_count": 14,
   "metadata": {},
   "outputs": [],
   "source": [
    "from importlib import reload\n",
    "import sqlite_handler\n",
    "\n",
    "reload(sqlite_handler)\n",
    "\n",
    "from sqlite_handler import select_from_param, Connection, select_from_multiple_params"
   ]
  },
  {
   "cell_type": "code",
   "execution_count": 15,
   "metadata": {},
   "outputs": [
    {
     "ename": "OperationalError",
     "evalue": "no such column: seed",
     "output_type": "error",
     "traceback": [
      "\u001b[0;31m---------------------------------------------------------------------------\u001b[0m",
      "\u001b[0;31mOperationalError\u001b[0m                          Traceback (most recent call last)",
      "Cell \u001b[0;32mIn[15], line 5\u001b[0m\n\u001b[1;32m      3\u001b[0m \u001b[39mfor\u001b[39;00m seed \u001b[39min\u001b[39;00m seeds:\n\u001b[1;32m      4\u001b[0m     \u001b[39mwith\u001b[39;00m Connection(\u001b[39m'\u001b[39m\u001b[39m./Simulations.db\u001b[39m\u001b[39m'\u001b[39m) \u001b[39mas\u001b[39;00m conn:\n\u001b[0;32m----> 5\u001b[0m         r \u001b[39m=\u001b[39m  select_from_multiple_params(conn, [\u001b[39m'\u001b[39;49m\u001b[39mNt\u001b[39;49m\u001b[39m'\u001b[39;49m, \u001b[39m'\u001b[39;49m\u001b[39mseed\u001b[39;49m\u001b[39m'\u001b[39;49m], [\u001b[39m10200\u001b[39;49m, seed], [\u001b[39m'\u001b[39;49m\u001b[39mN_t_stationary\u001b[39;49m\u001b[39m'\u001b[39;49m,\u001b[39m'\u001b[39;49m\u001b[39mc_avg\u001b[39;49m\u001b[39m'\u001b[39;49m, \u001b[39m'\u001b[39;49m\u001b[39mNt\u001b[39;49m\u001b[39m'\u001b[39;49m])\n\u001b[1;32m      6\u001b[0m         N_t_stationary\u001b[39m.\u001b[39mappend(r[\u001b[39m0\u001b[39m][\u001b[39m0\u001b[39m])\n\u001b[1;32m      7\u001b[0m         c_avg\u001b[39m.\u001b[39mappend(r[\u001b[39m0\u001b[39m][\u001b[39m1\u001b[39m])\n",
      "File \u001b[0;32m~/Projects/ADR/sqlite_handler.py:198\u001b[0m, in \u001b[0;36mselect_from_multiple_params\u001b[0;34m(conn, params_to_query, values, params_to_return)\u001b[0m\n\u001b[1;32m    195\u001b[0m         \u001b[39mraise\u001b[39;00m \u001b[39mValueError\u001b[39;00m(\u001b[39mf\u001b[39m\u001b[39m'\u001b[39m\u001b[39mParameter \u001b[39m\u001b[39m{\u001b[39;00mp\u001b[39m}\u001b[39;00m\u001b[39m not in \u001b[39m\u001b[39m{\u001b[39;00mparams\u001b[39m}\u001b[39;00m\u001b[39m'\u001b[39m)\n\u001b[1;32m    197\u001b[0m cur \u001b[39m=\u001b[39m conn\u001b[39m.\u001b[39mcursor()\n\u001b[0;32m--> 198\u001b[0m cur\u001b[39m.\u001b[39;49mexecute(\u001b[39mf\u001b[39;49m\u001b[39m\"\u001b[39;49m\u001b[39mSELECT \u001b[39;49m\u001b[39m{\u001b[39;49;00m\u001b[39m'\u001b[39;49m\u001b[39m,\u001b[39;49m\u001b[39m'\u001b[39;49m\u001b[39m.\u001b[39;49mjoin(params_to_return)\u001b[39m}\u001b[39;49;00m\u001b[39m FROM simulations WHERE \u001b[39;49m\u001b[39m{\u001b[39;49;00m\u001b[39m'\u001b[39;49m\u001b[39mAND \u001b[39;49m\u001b[39m'\u001b[39;49m\u001b[39m.\u001b[39;49mjoin([\u001b[39mf\u001b[39;49m\u001b[39m'\u001b[39;49m\u001b[39m{\u001b[39;49;00mp\u001b[39m}\u001b[39;49;00m\u001b[39m=? \u001b[39;49m\u001b[39m'\u001b[39;49m\u001b[39m \u001b[39;49m\u001b[39mfor\u001b[39;49;00m\u001b[39m \u001b[39;49mp\u001b[39m \u001b[39;49m\u001b[39min\u001b[39;49;00m\u001b[39m \u001b[39;49mparams_to_query])\u001b[39m}\u001b[39;49;00m\u001b[39m\"\u001b[39;49m, \u001b[39mtuple\u001b[39;49m(values))\n\u001b[1;32m    200\u001b[0m rows \u001b[39m=\u001b[39m cur\u001b[39m.\u001b[39mfetchall()\n\u001b[1;32m    202\u001b[0m \u001b[39mreturn\u001b[39;00m rows\n",
      "\u001b[0;31mOperationalError\u001b[0m: no such column: seed"
     ]
    }
   ],
   "source": [
    "# We get the data from the database from simulations with different seed with a loop\n",
    "N_t_stationary = []; c_avg = []\n",
    "for seed in seeds:\n",
    "    with Connection('./Simulations.db') as conn:\n",
    "        r =  select_from_multiple_params(conn, ['Nt', 'random_seed'], [10200, seed], ['N_t_stationary','c_avg', 'Nt'])\n",
    "        N_t_stationary.append(r[0][0])\n",
    "        c_avg.append(r[0][1])"
   ]
  },
  {
   "cell_type": "code",
   "execution_count": null,
   "metadata": {},
   "outputs": [],
   "source": []
  }
 ],
 "metadata": {
  "kernelspec": {
   "display_name": "mdaenv",
   "language": "python",
   "name": "python3"
  },
  "language_info": {
   "codemirror_mode": {
    "name": "ipython",
    "version": 3
   },
   "file_extension": ".py",
   "mimetype": "text/x-python",
   "name": "python",
   "nbconvert_exporter": "python",
   "pygments_lexer": "ipython3",
   "version": "3.11.2"
  },
  "orig_nbformat": 4
 },
 "nbformat": 4,
 "nbformat_minor": 2
}
