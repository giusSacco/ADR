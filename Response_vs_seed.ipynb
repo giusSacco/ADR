{
 "cells": [
  {
   "attachments": {},
   "cell_type": "markdown",
   "metadata": {},
   "source": [
    "# MAIN IDEA\n",
    "\n",
    "The main point is to understand if the response if _unversal_ and the chemistry only contributesto a _form factor_, or if the response is _specific_ to the chemistry.\n",
    "\n",
    "To do se we wat to look a a couple of plots for many seeds:\n",
    "\n",
    "1. $\\max(\\hat{c}(\\omega))$ \n",
    "2. $\\arg(\\hat{c}(\\omega))$ \n",
    "\n",
    "where $\\hat{c}(\\omega)$ is the Fourier transform of the average concentration $c(t)$ and $\\omega$ is the driving frequency.\n",
    "\n",
    "Hopefully, we find\n",
    "\n",
    "$$ \\hat{c}(a, \\omega) = \\mathcal{F}(a) \\chi(\\omega)$$\n",
    "\n",
    "where $a(x, y)$ is the chemistry and $\\chi(\\omega)$ is the response function."
   ]
  },
  {
   "cell_type": "markdown",
   "metadata": {},
   "source": []
  }
 ],
 "metadata": {
  "language_info": {
   "name": "python"
  },
  "orig_nbformat": 4
 },
 "nbformat": 4,
 "nbformat_minor": 2
}
